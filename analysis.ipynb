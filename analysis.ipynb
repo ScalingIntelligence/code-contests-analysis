{
 "cells": [
  {
   "cell_type": "code",
   "execution_count": null,
   "metadata": {},
   "outputs": [],
   "source": [
    "RESULTS_DIR = \"SET ME!\""
   ]
  },
  {
   "cell_type": "code",
   "execution_count": 1,
   "metadata": {},
   "outputs": [],
   "source": [
    "from dataclasses import dataclass\n",
    "\n",
    "from code_contests_analysis import cc_dataset\n",
    "from pathlib import Path\n",
    "\n",
    "from typing import List"
   ]
  },
  {
   "cell_type": "code",
   "execution_count": null,
   "metadata": {},
   "outputs": [],
   "source": [
    "all_problems = cc_dataset.load_dataset_into_data_structures()\n",
    "\n",
    "problems = []\n",
    "for problem in all_problems:\n",
    "    # only include problems from the test set\n",
    "    if problem.dataset_split != cc_dataset.DatasetSplit.TEST:\n",
    "        continue\n",
    "\n",
    "    # only include problems with valid python3 solutions\n",
    "    for solution in problem.solutions:\n",
    "        if solution.is_correct:\n",
    "            problems.append(problem)\n",
    "            break\n"
   ]
  },
  {
   "cell_type": "code",
   "execution_count": null,
   "metadata": {},
   "outputs": [],
   "source": [
    "# Modifies the solutions field\n",
    "_ = cc_dataset.load_test_case_runs(problems, results_dir=Path(RESULTS_DIR))"
   ]
  },
  {
   "cell_type": "code",
   "execution_count": 49,
   "metadata": {},
   "outputs": [],
   "source": [
    "class TestCategoryReport:\n",
    "    passing: List[cc_dataset.TestCaseRun]\n",
    "    failing: List[cc_dataset.TestCaseRun]\n",
    "    timeouts: List[cc_dataset.TestCaseRun]\n",
    "    crashing: List[cc_dataset.TestCaseRun]\n",
    "\n",
    "    def __init__(self, test_case_runs: List[cc_dataset.TestCaseRun]):\n",
    "        self.passing = []\n",
    "        self.failing = []\n",
    "        self.timeouts = []\n",
    "        self.crashing = []\n",
    "\n",
    "        for run in test_case_runs:\n",
    "            if run.is_correct:\n",
    "                self.passing.append(run)\n",
    "            elif run.timed_out:\n",
    "                self.timeouts.append(run)\n",
    "            elif run.crashed:\n",
    "                self.crashing.append(run)\n",
    "            else:\n",
    "                self.failing.append(run)\n",
    "\n",
    "    @property\n",
    "    def num_passing(self):\n",
    "        return len(self.passing)\n",
    "\n",
    "    @property\n",
    "    def num_failing(self):\n",
    "        return len(self.failing)\n",
    "\n",
    "    @property\n",
    "    def num_timeouts(self):\n",
    "        return len(self.timeouts)\n",
    "\n",
    "    @property\n",
    "    def num_crashing(self):\n",
    "        return len(self.crashing)\n",
    "    \n",
    "    def __repr__(self):\n",
    "        return (f\"<TestCategoryReport(passing={self.num_passing}, \"\n",
    "                f\"failing={self.num_failing}, timeouts={self.num_timeouts}, \"\n",
    "                f\"crashing={self.num_crashing})>\")\n",
    "\n",
    "\n",
    "class SolutionTestReport:\n",
    "    public_and_private_tests_report: TestCategoryReport\n",
    "    generated_tests_report: TestCategoryReport\n",
    "\n",
    "    def __init__(self, solution: cc_dataset.Solution):\n",
    "        assert solution.is_correct\n",
    "\n",
    "        public_private_runs = [\n",
    "            test_case_run\n",
    "            for test_case_run in solution.test_case_runs\n",
    "            if test_case_run.test_case.source == cc_dataset.TestCaseSource.PUBLIC\n",
    "            or test_case_run.test_case.source == cc_dataset.TestCaseSource.PRIVATE\n",
    "        ]\n",
    "        generated_runs = [\n",
    "            test_case_run\n",
    "            for test_case_run in solution.test_case_runs\n",
    "            if test_case_run.test_case.source == cc_dataset.TestCaseSource.GENERATED\n",
    "        ]\n",
    "\n",
    "        assert len(public_private_runs) != 0\n",
    "\n",
    "        self.public_and_private_tests_report = TestCategoryReport(public_private_runs)\n",
    "        self.generated_tests_report = TestCategoryReport(generated_runs)\n",
    "\n",
    "    \n",
    "    def __repr__(self):\n",
    "        return (f\"<SolutionTestReport(public_and_private_tests_report={self.public_and_private_tests_report}, \"\n",
    "                f\"generated_tests_report={self.generated_tests_report})>\")\n",
    "\n",
    "    def __str__(self):\n",
    "        return self.__repr__()"
   ]
  },
  {
   "cell_type": "code",
   "execution_count": 50,
   "metadata": {},
   "outputs": [],
   "source": [
    "reports_by_problem = []\n",
    "for problem in problems:\n",
    "    reports_by_problem.append(\n",
    "        [\n",
    "            SolutionTestReport(solution)\n",
    "            for solution in problem.solutions\n",
    "            if solution.is_correct\n",
    "        ]\n",
    "    )"
   ]
  },
  {
   "cell_type": "code",
   "execution_count": 51,
   "metadata": {},
   "outputs": [],
   "source": [
    "false_negatives = []\n",
    "\n",
    "\n",
    "for reports in reports_by_problem:\n",
    "    for report in reports:\n",
    "        public_priv_report = report.public_and_private_tests_report\n",
    "        if (\n",
    "            public_priv_report.num_passing > 0\n",
    "            and public_priv_report.num_timeouts == 0\n",
    "            and public_priv_report.num_crashing == 0\n",
    "        ):\n",
    "            if (\n",
    "                report.generated_tests_report.num_failing > 0 or report.generated_tests_report.num_timeouts > 0 or\n",
    "                report.generated_tests_report.num_crashing > 0\n",
    "            ):\n",
    "                false_negatives.append(report)\n",
    "                break"
   ]
  },
  {
   "cell_type": "code",
   "execution_count": null,
   "metadata": {},
   "outputs": [],
   "source": [
    "len(false_negatives)"
   ]
  },
  {
   "cell_type": "code",
   "execution_count": null,
   "metadata": {},
   "outputs": [],
   "source": [
    "for fn in false_negatives:\n",
    "    print(fn)"
   ]
  }
 ],
 "metadata": {
  "kernelspec": {
   "display_name": "cc",
   "language": "python",
   "name": "python3"
  },
  "language_info": {
   "codemirror_mode": {
    "name": "ipython",
    "version": 3
   },
   "file_extension": ".py",
   "mimetype": "text/x-python",
   "name": "python",
   "nbconvert_exporter": "python",
   "pygments_lexer": "ipython3",
   "version": "3.12.4"
  }
 },
 "nbformat": 4,
 "nbformat_minor": 2
}
